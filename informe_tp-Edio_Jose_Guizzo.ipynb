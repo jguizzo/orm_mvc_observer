{
 "cells": [
  {
   "cell_type": "markdown",
   "id": "8b32a326",
   "metadata": {},
   "source": [
    "# Diplomatura en Python\n",
    "___\n",
    "\n",
    "## TP Nivel Intermedio\n",
    "\n",
    "\n",
    "### Alumno: Edio José Guizzo\n",
    "\n",
    "### Aplicación Desarrollada\n",
    "\n",
    "En este trabajo se explica el codigo desarrollado para una aplicación de registro de gastos. A continuación se puede observar una imagen de la misma:\n",
    "\n",
    "![img1](app.png \"Captura de pantalla\")\n",
    "\n",
    "El codigo se encuentra dividido en cuatro modulos. Cumpliendo cada uno un rol particular, e integrandose para permitir la ejecución del programa. El primero de ellos corresponde al *controlador*, otro es el *modelo*, luego estan las *vistas* de la ventana principal y secundaria, y el ultimo contiene la logica de validación **REGEX.** Tal como se aprecia en la separación de los modulos el script sigue el modelo de desarrollo MVC, lo cual para aplicaciones de este tipo resulta mas practico y ordenado. Facilitando la comprensión del codigo a otros programadores.\n"
   ]
  },
  {
   "cell_type": "markdown",
   "id": "64663c2e",
   "metadata": {},
   "source": [
    "# MODULOS - MVC\n",
    "\n",
    "# controlador.py\n",
    "\n",
    "Este modulo es el principal y permite la ejecución del resto del script. Es por esto que para ejecurtalo si o si se debe hacer directamente desde el archivo controlador.py y no de otra manera. Primeramente el codigo crea una ventana de **tkinter** llamada root, y su correspondiente mainloop() para cerrar el bucle. A su vez se crea una instancia de la **class Controlador():** a la que se le pasa la como elemento la ventana para que pueda inicializar el resto del programa. \n",
    "\n",
    "\n",
    "La clase **Controlador** cuenta con tres metodos, un constructor **def __init__(self, root):**, una función que ejecuta la ventana principal **def ventana_principal(self,):**, y por ultimo otra función que ejecuta la ventana secundaria **def ventana_secundaria(self, datos, objeto):**"
   ]
  },
  {
   "cell_type": "code",
   "execution_count": null,
   "id": "48b1cd74",
   "metadata": {},
   "outputs": [],
   "source": [
    "from tkinter import Tk\n",
    "from vista import *\n",
    "from vista_2 import *\n",
    "\n",
    "\n",
    "class Controlador():\n",
    "\n",
    "    def __init__(self, root):\n",
    "        self.root_controlador = root\n",
    "        self.ventana_principal()\n",
    "\n",
    "    def ventana_principal(self,):\n",
    "        Ventana_principal(self.root_controlador)\n",
    "\n",
    "    def ventana_secundaria(self, datos, objeto):\n",
    "        print(\"Despliego ventana secundaria\")\n",
    "        self.root_sec = Toplevel()\n",
    "        Ventana_secundaria(self.root_sec, datos, objeto)\n",
    "        self.root_sec.grab_set()\n",
    "        self.root_sec.focus_set()\n",
    "        self.root_sec.wait_window()\n",
    "\n",
    "\n",
    "if __name__ == \"__main__\":\n",
    "    root = Tk()\n",
    "    Controlador(root)\n",
    "    root.mainloop()"
   ]
  },
  {
   "cell_type": "markdown",
   "id": "6f037f9d",
   "metadata": {},
   "source": [
    "# modelo.py\n",
    "\n",
    "Aqui se encuentra toda la logica de funcionamiento de la aplicación, este modulo se encarga de interacturar con la vista y el controlador. \n",
    "\n",
    "Primeramente se importan los modulos y librerias necesarios para la ejecución del codigo. Posteriormente se define la clase principal llamada **class Abmc():** en ella se encuentran los metodos que permiten la interacción vista-modelo y tambien otros propios del modelo."
   ]
  },
  {
   "cell_type": "code",
   "execution_count": null,
   "id": "b871bca9",
   "metadata": {},
   "outputs": [],
   "source": [
    "from tkinter import messagebox\n",
    "import sqlite3\n",
    "from controlador import *\n",
    "from regex import validador\n",
    "\n",
    "\n",
    "class Abmc():\n",
    "    \n"
   ]
  },
  {
   "cell_type": "markdown",
   "id": "ee5cac52",
   "metadata": {},
   "source": [
    "### def __init__(self,):\n",
    "\n",
    "Este metodo es el **constructor**, en el se inicializa la conexión con la base datos y luego se crea la tabla necesaria para el registro en caso de que no se haya creado antes. La tabla posee los siguientes campos:\n",
    "\n",
    "\n",
    "* **id**\n",
    "    * entero, autoincremental, clave primaria\n",
    "* **concepto**\n",
    "    * texto, no nulo.\n",
    "* **valor**\n",
    "    * entero.\n",
    "* **fecha**\n",
    "    * texto, no nulo.\n",
    "* **descripcion**\n",
    "    * texto, no nulo."
   ]
  },
  {
   "cell_type": "code",
   "execution_count": null,
   "id": "a28ab6a8",
   "metadata": {},
   "outputs": [],
   "source": [
    "    def __init__(self,):\n",
    "        self.data_base = 'registro.db'\n",
    "        try:\n",
    "            db = self.conexion()\n",
    "            cursor = db.cursor()\n",
    "            cursor.execute(\"\"\"CREATE TABLE IF NOT EXISTS gastos(\n",
    "                id integer PRIMARY KEY AUTOINCREMENT,\n",
    "                concepto TEXT NOT NULL,\n",
    "                valor INTEGER,\n",
    "                fecha TEXT NOT NULL,\n",
    "                descripcion TEXT NOT NULL)\"\"\")\n",
    "            db.commit()\n",
    "        except sqlite3.DatabaseError as mensaje:\n",
    "            self.pop_up_error(\"Error en DB\", mensaje)\n",
    "        else:\n",
    "            print(\"Base de datos creada con éxito\")\n",
    "        finally:\n",
    "            db.close()"
   ]
  },
  {
   "cell_type": "markdown",
   "id": "5fd6c0f2",
   "metadata": {},
   "source": [
    "### def conexion(self,):\n",
    "\n",
    "Establece la conexión con la base de datos."
   ]
  },
  {
   "cell_type": "code",
   "execution_count": null,
   "id": "123d599c",
   "metadata": {},
   "outputs": [],
   "source": [
    "    def conexion(self,):\n",
    "        db = sqlite3.connect(self.data_base)\n",
    "        return db"
   ]
  },
  {
   "cell_type": "markdown",
   "id": "0e4e604e",
   "metadata": {},
   "source": [
    "### def info_db_treeview(self, tree):\n",
    "\n",
    "Mediante el uso de la *query* **SELECT** se asignan al cursor todas las filas de la base de datos. Luego se pasan a una variable empleando la función **cursor.fetchall()**. Esta función nos retorna una lista de filas, para recorrerla se usa un bucle **for** para recorrer todas las fila, imprimiendo los campos de la lista en las columnas de la tabla del treeview mediante **tree.insert()**.\n"
   ]
  },
  {
   "cell_type": "code",
   "execution_count": null,
   "id": "aa8f802a",
   "metadata": {},
   "outputs": [],
   "source": [
    "    def info_db_treeview(self, tree):\n",
    "        tree.delete(*tree.get_children())\n",
    "        try:\n",
    "            db = self.conexion()\n",
    "            cursor = db.cursor()\n",
    "            cursor.execute(\"SELECT * FROM gastos\")\n",
    "            db.commit()\n",
    "            registros = cursor.fetchall()\n",
    "        except sqlite3.DatabaseError as mensaje:\n",
    "            self.pop_up_error(\"Error en DB\", mensaje)\n",
    "            print(\"Error en base de datos\")\n",
    "        else:\n",
    "            for info in registros:\n",
    "                tree.insert(\"\", \"end\", text=info[0], values=(\n",
    "                    info[1], info[2], info[3], info[4]))\n",
    "        finally:\n",
    "            db.close()"
   ]
  },
  {
   "cell_type": "markdown",
   "id": "fd19b2d9",
   "metadata": {},
   "source": [
    "### def alta_db(self, tree, *args):\n",
    "\n",
    "Esta función es ejecutada cuando se presiona el boton **Cargar**. Primero valida los campos ingresados y luego se conecta con la base de datos. Esta secuencia se encuentra dentro de un **try**, donde posteriormente se inserta en la base de datos los valores retornados por la función **validador()**.\n",
    "\n",
    "Una vez realizada el alta, *cursor.execute(sql_query, valores)*, se confirma la misma con un **db.commit()** para luego cerrar la conexión con la base de datos.\n",
    "\n",
    "Posteriormente si todo fue correcto y sin errores se actualiza la vista de la tabla del treeview, llamando a la función **info_db_treeview()** y se limpian las celdas de texto con la función **limpiar_celdas()**. \n",
    "\n",
    "En caso de originarse un error en el proceso anterior, existen dos condiciones **except**, una para errores de **sqlite3** y otra para error en el **validador**."
   ]
  },
  {
   "cell_type": "code",
   "execution_count": null,
   "id": "34d88020",
   "metadata": {},
   "outputs": [],
   "source": [
    "    def alta_db(self, tree, *args):\n",
    "        sql_query = \"INSERT INTO gastos('concepto', 'valor', 'fecha', 'descripcion') VALUES(?,?,?,?)\"\n",
    "        try:\n",
    "            valores = validador(*args)\n",
    "            db = self.conexion()\n",
    "            cursor = db.cursor()\n",
    "            print(\"===============================\")\n",
    "            print(\"Datos ingresados: \")\n",
    "            for n in valores:\n",
    "                print(n, end=\" \")\n",
    "            cursor.execute(sql_query, valores)\n",
    "            db.commit()\n",
    "        except sqlite3.DatabaseError as mensaje:\n",
    "            self.pop_up_error(\"Error en DB\", mensaje)\n",
    "            print(\"No se pudo cargar\")\n",
    "        except TypeError:\n",
    "            self.pop_up_error(\"Error\", valores)\n",
    "        else:\n",
    "            self.info_db_treeview(tree)\n",
    "            self.limpiar_celdas(*args)\n",
    "            print(\"Carga exitosa\")\n",
    "        finally:\n",
    "            db.close()"
   ]
  },
  {
   "cell_type": "markdown",
   "id": "25fc26ad",
   "metadata": {},
   "source": [
    "### def baja_db(self, item_id):\n",
    "\n",
    "Primeramente nos conectamos a la base de datos, para luego tomar el **ID** del item a borrar. Con ese dato enviamos la *query* a la base de datos para que elimine la fila correspondiente a ese numero de *id*."
   ]
  },
  {
   "cell_type": "code",
   "execution_count": null,
   "id": "27c69edc",
   "metadata": {},
   "outputs": [],
   "source": [
    "    def baja_db(self, item_id):\n",
    "        try:\n",
    "            db = self.conexion()\n",
    "            cursor = db.cursor()\n",
    "            cursor.execute(\"DELETE FROM gastos WHERE id = ?\", (item_id,))\n",
    "            db.commit()\n",
    "        except sqlite3.DatabaseError as mensaje:\n",
    "            self.pop_up_error(\"Error en DB\", mensaje)\n",
    "            print(\"No se pudo borrar\")\n",
    "        else:\n",
    "            print(\"Borrado exitoso\")\n",
    "        finally:\n",
    "            db.close()"
   ]
  },
  {
   "cell_type": "markdown",
   "id": "6eec958b",
   "metadata": {},
   "source": [
    "### def limpiar_celdas():\n",
    "\n",
    "La funcion se encarga de limpiar las celdas de ingreso de texto, esto lo realizamos con el metodo **.delete()**."
   ]
  },
  {
   "cell_type": "code",
   "execution_count": null,
   "id": "580f0c44",
   "metadata": {},
   "outputs": [],
   "source": [
    "    def limpiar_celdas(self, *args):\n",
    "        for valor in args:\n",
    "            valor.delete(0, END)"
   ]
  },
  {
   "cell_type": "markdown",
   "id": "b37c8fab",
   "metadata": {},
   "source": [
    "### def borrar_registro_treeview():\n",
    "\n",
    "Aqui mediante el uso de **tkinter** y su función **focus()**, podemos selececcionar directamente una fila de la tabla de treeview. Esta nos devuelta la información de toda la fila, de la que tomamos el valor de la **key** *'text'*, en donde se encuentra el **ID** asignado por al base de datos.\n",
    "\n",
    "Posteriormente se llama a la función **tree.delete**, la cual borra la fila de la tabla del treeview, de acuerdo al *item_id* que le pasa la función. Lo mismo sucede con **baja_db** que elimina la fila de la base de datos.\n",
    "\n",
    "\n",
    "En caso de no haber seleccionado un item y apretar el botón **Borrar**, se despliega un *pop-up* con la leyenda que *Seleccione el item a eliminar*."
   ]
  },
  {
   "cell_type": "code",
   "execution_count": null,
   "id": "81b9a5b8",
   "metadata": {},
   "outputs": [],
   "source": [
    "    def borrar_registro_treeview(self, tree):\n",
    "        item_focus = tree.focus()\n",
    "        item_actual = tree.item(item_focus)\n",
    "        if item_actual['text'] != '':\n",
    "            item_id = item_actual['text']\n",
    "            print(\"===============================\")\n",
    "            print(\"Se borró el item: \", item_id)\n",
    "            tree.delete(item_focus)\n",
    "            self.baja_db(item_id)  # Llamo funcion que borra registro en DB.\n",
    "        else:\n",
    "            self.pop_up_error(\"Error al borrar\", \"Seleccione item a eliminar\")"
   ]
  },
  {
   "cell_type": "markdown",
   "id": "825b96cd",
   "metadata": {},
   "source": [
    "## def buscar_registro(self, tree, objeto_base):\n",
    "\n",
    "Mediante el uso de **tkinter** y su función **focus()**, podemos selececcionar directamente una fila de la tabla de treeview. Esta nos devuelta la información de toda la fila, de la que tomamos el valor de la **key** *'text'*, en donde se encuentra el **ID** asignado por al base de datos. Dicho valor se lo pasamos a la función **self.datos_busqueda(item_id)**, la cual nos despliega una nueva ventana donde muestra el detalle del item seleccionado.\n",
    "\n",
    "En caso de no haber seleccionado un item y apretar el botón **Buscar**, se despliega un *pop-up* con la leyenda que *Seleccione el item a buscar*."
   ]
  },
  {
   "cell_type": "code",
   "execution_count": null,
   "id": "a7547843",
   "metadata": {},
   "outputs": [],
   "source": [
    "    def buscar_registro(self, tree, objeto_base):\n",
    "        self.objeto_base = objeto_base\n",
    "        self.tree = tree\n",
    "        item_focus = self.tree.focus()\n",
    "        item_actual = self.tree.item(item_focus)\n",
    "        if item_actual['text'] != '':\n",
    "            item_id = item_actual['text']\n",
    "            print(\"===============================\")\n",
    "            print(\"Seleccionó item: \", item_id)\n",
    "            # Llamo funcion que busca registro en DB.\n",
    "            self.datos_busqueda(item_id)\n",
    "        else:\n",
    "            self.pop_up_error(\"Error al buscar\", \"Seleccione item a buscar\")\n",
    "            messagebox.showinfo(\n",
    "                message=\"Seleccione item a buscar\", title=\"Error al modificar\")"
   ]
  },
  {
   "cell_type": "markdown",
   "id": "7f5fc03f",
   "metadata": {},
   "source": [
    "### def datos_busqueda(self, item_id):\n",
    "\n",
    "Aqui se recibe el **item_id** enviado por la función anterior. Empleando el *cursor*, seleccionamos de la base datos la fila correspondiente al id elegido. Mediante **cursor.fetchone()** se obtienen los datos de esa fila, para luego de definir toda la ventana, se despliegue en la misma la información del id elegido. Estos campos de textos mostrados, pueden ser modificados y luego actualizados en la base de datos mediante el boton **Modificar**."
   ]
  },
  {
   "cell_type": "code",
   "execution_count": null,
   "id": "c0416767",
   "metadata": {},
   "outputs": [],
   "source": [
    "    def datos_busqueda(self, item_id):\n",
    "        try:\n",
    "            db = self.conexion()\n",
    "            cursor = db.cursor()\n",
    "            cursor.execute(\"SELECT * FROM gastos WHERE id = ?\", (item_id,))\n",
    "            self.datos = cursor.fetchone()\n",
    "        except sqlite3.DatabaseError as mensaje:\n",
    "            self.pop_up_error(\"Error en DB\", mensaje)\n",
    "        else:\n",
    "            self.call_ventana(self.objeto_base)\n",
    "        finally:\n",
    "            db.close()"
   ]
  },
  {
   "cell_type": "markdown",
   "id": "05f362a4",
   "metadata": {},
   "source": [
    "### def modificar_registro(self, id, *args):\n",
    "\n",
    "Se reciben los valores de los campos a modificar. Luego los valido a traves de la funcion encargada de ello. Posteriormente mediante la *SQL Query* **UPDATE** actualizo estos campos en donde se encuentre el **ID** correspondiente."
   ]
  },
  {
   "cell_type": "code",
   "execution_count": null,
   "id": "1cfc216b",
   "metadata": {},
   "outputs": [],
   "source": [
    "    def modificar_registro(self, id, *args):\n",
    "        datos = validador(*args)\n",
    "        datos.append(id)\n",
    "        print(datos)\n",
    "        sql_query = \"UPDATE gastos SET concepto=?, valor=?, fecha=?, descripcion=? WHERE id = ?\"\n",
    "        \"\"\"datos = (concepto2.get(), valor2.get(),\n",
    "                 fecha2.get(), descripcion2.get(), id)\n",
    "        \"\"\"\n",
    "        try:\n",
    "            db = self.conexion()\n",
    "            cursor = db.cursor()\n",
    "            cursor.execute(sql_query, datos)\n",
    "            db.commit()\n",
    "            self.info_db_treeview(self.tree)\n",
    "            # self.limpiar_celdas()\n",
    "        except sqlite3.DatabaseError as mensaje:\n",
    "            self.pop_up_error(\"Error en DB\", mensaje)\n",
    "        else:\n",
    "            print(\"Modificacion exitosa\")\n",
    "        finally:\n",
    "            db.close()"
   ]
  },
  {
   "cell_type": "markdown",
   "id": "4dd88c61",
   "metadata": {},
   "source": [
    "###    def call_ventana(self, objeto_base):\n",
    "\n",
    "Permite inicializar la *ventana_secundaria* a traves de una instancia al metodo correspondiente de la clase **Controlador**."
   ]
  },
  {
   "cell_type": "code",
   "execution_count": null,
   "id": "b61693f3",
   "metadata": {},
   "outputs": [],
   "source": [
    "    def call_ventana(self, objeto_base):\n",
    "        Controlador.ventana_secundaria(self, self.datos, objeto_base)"
   ]
  },
  {
   "cell_type": "markdown",
   "id": "a54534ef",
   "metadata": {},
   "source": [
    "### def pop_up_error(self, *args):\n",
    "\n",
    "Este método recibe el titulo y texto del error, para luego desplagarlo en una ventana del tipo **messagebox.**"
   ]
  },
  {
   "cell_type": "code",
   "execution_count": null,
   "id": "08d28db5",
   "metadata": {},
   "outputs": [],
   "source": [
    "    def pop_up_error(self, *args):\n",
    "        messagebox.showinfo(message=args[1], title=args[0])"
   ]
  },
  {
   "cell_type": "markdown",
   "id": "08fb2f9d",
   "metadata": {},
   "source": [
    "# vista.py"
   ]
  },
  {
   "cell_type": "markdown",
   "id": "1f53fbae",
   "metadata": {},
   "source": [
    "Todo lo referido a la interfaz gráfica de la ventana principal. Aca se incluye los parametros de los botones, labels, entradas de texto, treeview, y las funciones que interactuan con el modelo."
   ]
  },
  {
   "cell_type": "code",
   "execution_count": null,
   "id": "599fdf2f",
   "metadata": {},
   "outputs": [],
   "source": [
    "from tkinter import ttk\n",
    "from tkinter import *\n",
    "import datetime\n",
    "from modelo import Abmc\n",
    "\n",
    "# Defino el formato en el que obtengo la fecha actual.\n",
    "fecha_actual = datetime.datetime.now().strftime(\"%d/%m/%Y\")\n",
    "\n",
    "\n",
    "class Ventana_principal():\n",
    "\n",
    "    def __init__(self, window):\n",
    "        self.root = window\n",
    "\n",
    "        self.concepto = StringVar()\n",
    "        self.valor = StringVar()\n",
    "        self.fecha = StringVar(value=fecha_actual)\n",
    "        self.descripcion = StringVar()\n",
    "        self.ancho = 40\n",
    "        self.objeto_base = Abmc()\n",
    "\n",
    "        # Frame\n",
    "        self.root.title(\"Registro de Gastos\")\n",
    "        self.root.resizable(width=False, height=False)\n",
    "        self.treeview = ttk.Treeview(self.root)\n",
    "\n",
    "        # Etiquetas\n",
    "        self.label0 = Label(self.root, text=\"Ingrese los valores\",\n",
    "                            background='black', foreground='white')\n",
    "        self.label0.grid(row=0, column=0, columnspan=6,\n",
    "                         padx=5, pady=5, sticky=W + E)\n",
    "\n",
    "        self.label1 = Label(self.root, text=\"Concepto:\")\n",
    "        self.label1.grid(row=1, column=0, sticky=W, padx=5, pady=5)\n",
    "\n",
    "        self.label2 = Label(self.root, text=\"Valor en $:\")\n",
    "        self.label2.grid(row=2, column=0, sticky=W, padx=5, pady=5)\n",
    "\n",
    "        self.label3 = Label(self.root, text=\"(no usar $ o .)\")\n",
    "        self.label3.grid(row=2, column=1, sticky=E, padx=5, pady=5)\n",
    "\n",
    "        self.label4 = Label(self.root, text=\"Fecha:\")\n",
    "        self.label4.grid(row=3, column=0, sticky=W, padx=5, pady=5)\n",
    "\n",
    "        self.label5 = Label(self.root, text=\"(dd/mm/yyyy)\")\n",
    "        self.label5.grid(row=3, column=1, sticky=W+E, padx=5, pady=5)\n",
    "\n",
    "        self.label6 = Label(self.root, text=\"Descripción:\")\n",
    "        self.label6.grid(row=4, column=0, sticky=W, padx=5, pady=5)\n",
    "\n",
    "        self.label7 = Label(self.root, text=\"Registro\")\n",
    "        self.label7.grid(row=5, column=0, sticky=W, padx=5, pady=15)\n",
    "\n",
    "        # Entradas\n",
    "        self.concepto_entry = Entry(\n",
    "            self.root, width=self.ancho, textvariable=self.concepto, bg='white')\n",
    "        self.concepto_entry.grid(row=1, column=1, padx=5, pady=5, sticky=W)\n",
    "\n",
    "        self.valor_entry = Entry(\n",
    "            self.root, width=15, textvariable=self.valor, bg='white')\n",
    "        self.valor_entry.grid(row=2, column=1, padx=5, pady=5, sticky=W)\n",
    "\n",
    "        self.fecha_entry = Entry(\n",
    "            self.root, width=10, textvariable=self.fecha, bg='white')\n",
    "        self.fecha_entry.grid(row=3, column=1, padx=5, pady=5, sticky=W)\n",
    "\n",
    "        self.descripcion_entry = Entry(self.root, width=self.ancho,\n",
    "                                       textvariable=self.descripcion, bg='white')\n",
    "        self.descripcion_entry.grid(row=4, column=1, padx=5, pady=5, sticky=W)\n",
    "\n",
    "        # Botones\n",
    "        self.ancho_boton = 7\n",
    "        self.b_alta = Button(self.root, text=\"Cargar\", width=self.ancho_boton,\n",
    "                             command=lambda: self.alta())\n",
    "        self.b_alta.grid(row=5, column=1, padx=5,\n",
    "                         pady=5, sticky=E, columnspan=2)\n",
    "\n",
    "        self.b_baja = Button(self.root, text=\"Borrar\", width=self.ancho_boton,\n",
    "                             command=lambda: self.borrar())\n",
    "        self.b_baja.grid(row=8, column=2, padx=5, pady=5)\n",
    "\n",
    "        self.b_busqueda = Button(self.root, text=\"Buscar\",\n",
    "                                 width=self.ancho_boton, command=lambda: self.buscar())\n",
    "        self.b_busqueda.grid(row=8, column=1, padx=5, pady=5, sticky='E')\n",
    "\n",
    "        self.b_salir = Button(self.root, text=\"Salir\", width=self.ancho_boton,\n",
    "                              command=lambda: (self.root.destroy(), print(\"Bye !\")))\n",
    "        self.b_salir.grid(row=8, column=0, padx=5, pady=5, sticky='W')\n",
    "\n",
    "        # Treeview\n",
    "        self.tree = ttk.Treeview(self.root)\n",
    "        self.tree.grid(column=0, row=6, columnspan=5)\n",
    "        scrollbar = ttk.Scrollbar(\n",
    "            self.root, orient=\"vertical\", command=self.tree.yview)\n",
    "        scrollbar.grid(row=6, column=5, sticky='nse')\n",
    "        self.tree.configure(yscrollcommand=scrollbar.set)\n",
    "        self.tree[\"columns\"] = (\"col1\", \"col2\", \"col3\", \"col4\")\n",
    "        self.tree.column(\"#0\", width=50, minwidth=50, anchor=W)\n",
    "        self.tree.heading('#0', text='ID')\n",
    "        self.tree.column(\"col1\", width=100, minwidth=80)\n",
    "        self.tree.heading('col1', text='Concepto')\n",
    "        self.tree.column(\"col2\", width=80, minwidth=80)\n",
    "        self.tree.heading('col2', text='Valor')\n",
    "        self.tree.column(\"col3\", width=80, minwidth=80)\n",
    "        self.tree.heading('col3', text='Fecha')\n",
    "        self.tree.column(\"col4\", width=180, minwidth=100)\n",
    "        self.tree.heading('col4', text='Descripción')\n",
    "        # Actualizo treeview luego de crearlo\n",
    "        self.objeto_base.info_db_treeview(self.tree)\n",
    "\n",
    "    def alta(self,):\n",
    "        self.objeto_base.alta_db(self.tree, self.concepto_entry, self.valor_entry,\n",
    "                                 self.fecha_entry, self.descripcion_entry)\n",
    "\n",
    "    def borrar(self,):\n",
    "        self.objeto_base.borrar_registro_treeview(self.tree)\n",
    "\n",
    "    def buscar(self,):\n",
    "        self.objeto_base.buscar_registro(self.tree, self.objeto_base)\n",
    "\n",
    "    def modificar_registro(self, id, concepto2, valor2, fecha2, descripcion2):\n",
    "        self.objeto_base(id, concepto2, valor2, fecha2, descripcion2)"
   ]
  },
  {
   "cell_type": "markdown",
   "id": "5a313b5f",
   "metadata": {},
   "source": [
    "# vista_2.py"
   ]
  },
  {
   "cell_type": "markdown",
   "id": "402791c4",
   "metadata": {},
   "source": [
    "Todo lo referido a la interfaz gráfica de la ventana secundaria. Incluyendo los parametros de los botones, labels, entradas de texto, y las funciones que interactuan con el modelo."
   ]
  },
  {
   "cell_type": "code",
   "execution_count": null,
   "id": "91653d7b",
   "metadata": {},
   "outputs": [],
   "source": [
    "from tkinter import *\n",
    "\n",
    "class Ventana_secundaria():\n",
    "\n",
    "    def __init__(self, window, datos, objeto):\n",
    "        self.root_sec = window\n",
    "        self.objeto_base = objeto\n",
    "\n",
    "        self.id = datos[0]\n",
    "        self.concepto2 = StringVar(value=datos[1])\n",
    "        self.valor2 = StringVar(value=datos[2])\n",
    "        self.fecha2 = StringVar(value=datos[3])\n",
    "        self.descripcion2 = StringVar(value=datos[4])\n",
    "\n",
    "        # Frame\n",
    "        self.root_sec.title(\"Búsqueda de datos\")\n",
    "        self.root_sec.resizable(width=False, height=False)\n",
    "\n",
    "        # Etiquetas\n",
    "        self.label0 = Label(self.root_sec, text=\"ID:\")\n",
    "        self.label0.grid(row=1, column=0, sticky=E, padx=5, pady=5)\n",
    "\n",
    "        self.label1 = Label(\n",
    "            self.root_sec, text=self.id, width=4, bg='white')\n",
    "        self.label1.grid(row=1, column=1, padx=5, pady=5, sticky=W)\n",
    "\n",
    "        self.label2 = Label(self.root_sec, text=\"Concepto:\")\n",
    "        self.label2.grid(row=2, column=0, sticky=E, padx=5, pady=5)\n",
    "\n",
    "        self.label3 = Label(self.root_sec, text=\"Valor en $:\")\n",
    "        self.label3.grid(row=3, column=0, sticky=E, padx=5, pady=5)\n",
    "\n",
    "        self.label4 = Label(self.root_sec, text=\"Fecha:\")\n",
    "        self.label4.grid(row=4, column=0, sticky=E, padx=5, pady=5)\n",
    "\n",
    "        self.label5 = Label(self.root_sec, text=\"(dd/mm/yyyy)\")\n",
    "        self.label5.grid(row=4, column=1, sticky=W+E, padx=5, pady=5)\n",
    "\n",
    "        self.label6 = Label(self.root_sec, text=\"Descripción:\")\n",
    "        self.label6.grid(row=5, column=0, sticky=E, padx=5, pady=5)\n",
    "\n",
    "        # Entradas\n",
    "        self.ancho = 40\n",
    "\n",
    "        self.concepto_entry = Entry(self.root_sec, width=self.ancho,\n",
    "                                    textvariable=self.concepto2, bg='white')\n",
    "        self.concepto_entry.grid(row=2, column=1, padx=5, pady=5)\n",
    "\n",
    "        self.valor_entry = Entry(\n",
    "            self.root_sec, width=15, textvariable=self.valor2, bg='white')\n",
    "        self.valor_entry.grid(row=3, column=1, padx=5, pady=5, sticky=W)\n",
    "\n",
    "        self.fecha_entry = Entry(\n",
    "            self.root_sec, width=10, textvariable=self.fecha2, bg='white')\n",
    "        self.fecha_entry.grid(row=4, column=1, padx=5, pady=5, sticky=W)\n",
    "\n",
    "        self.descripcion_entry = Entry(self.root_sec, width=self.ancho,\n",
    "                                       textvariable=self.descripcion2, bg='white')\n",
    "        self.descripcion_entry.grid(row=5, column=1, padx=5, pady=5)\n",
    "\n",
    "        # Botones\n",
    "        b_alta = Button(self.root_sec, text=\"Modificar\", width=7,\n",
    "                        command=lambda: self.modificar_registro())\n",
    "        b_alta.grid(row=6, column=1, padx=5, pady=5, sticky='E')\n",
    "\n",
    "    def modificar_registro(self,):\n",
    "        self.objeto_base.modificar_registro(\n",
    "            self.id, self.concepto_entry, self.valor_entry, self.fecha_entry, self.descripcion_entry)\n",
    "        print(\"===============================\")\n",
    "        print(\"Cierro ventana secundaria\")\n",
    "        self.root_sec.destroy()\n"
   ]
  },
  {
   "cell_type": "markdown",
   "id": "4836718e",
   "metadata": {},
   "source": [
    "# regex.py\n",
    "\n",
    "Este modulo contiene el codigo correspondiente a la validación **regex**. Cuenta con una función llamada validador, la cual es invocada desde el modelo cada vez que se requiere verificar un campo de entrada."
   ]
  },
  {
   "cell_type": "markdown",
   "id": "a6fbd7cc",
   "metadata": {},
   "source": [
    "### def validador(concepto, valor, fecha, descripcion):\n",
    "\n",
    "Mediante el metodo **re.compile()** se define el patrón *REGEX* para los distintos campos. Cada patrón se encuentra definido en una lista llamada **patrones**. A su vez con un ciclo **for** se genera una lista llamada **valores** donde se almacena cada entrada. \n",
    "\n",
    "\n",
    "Posteriormente mediante el uso de otro ciclo **for** se procede a validar cada campo con su patrón, en caso de no ser valido se genera un error del tipo **TypeError** con un mensaje informativo. En caso de existir error, este es detectado por un **try/except/else** el cual retorna el mensaje a la función inicial desde donde se invocó.\n",
    "\n",
    "\n",
    "La condición **regex** empleada permite el ingreso de caracteres alfanumericos para el *Concepto* y la *Descripción*. En el caso del *Precio* unicamente permite numeros y por ultimo para la *Fecha* limita el acceso de acuerdo el siguiente formato *dd/mm/yyyy*.\n",
    "\n",
    "Si la validación es correcta, la función retorna una lista con los campos validados."
   ]
  },
  {
   "cell_type": "code",
   "execution_count": null,
   "id": "8656911a",
   "metadata": {},
   "outputs": [],
   "source": [
    "import re\n",
    "\n",
    "def validador(*args):\n",
    "    valores = []\n",
    "    \n",
    "    for n in args:\n",
    "        valores.append(n.get())\n",
    "\n",
    "    # Defino patrones a validar -> patrones(Concepto, Valor, Fecha, Desscripcion )\n",
    "    patrones = (re.compile('\\w+'), re.compile('\\d+'), re.compile('\\d+/\\d+/\\d{4}'), re.compile('\\w+'))\n",
    "\n",
    "    try:\n",
    "        i = 0\n",
    "        for patron in patrones:\n",
    "            if patron.match(valores[i]):\n",
    "                i += 1\n",
    "                print(f\"Campo {i} OK\")\n",
    "            else:\n",
    "                raise TypeError(f\"Campo {i} inválido\")\n",
    "\n",
    "    except TypeError as mensaje:\n",
    "        return mensaje\n",
    "    else:\n",
    "        return valores"
   ]
  }
 ],
 "metadata": {
  "kernelspec": {
   "display_name": "Python 3 (ipykernel)",
   "language": "python",
   "name": "python3"
  },
  "language_info": {
   "codemirror_mode": {
    "name": "ipython",
    "version": 3
   },
   "file_extension": ".py",
   "mimetype": "text/x-python",
   "name": "python",
   "nbconvert_exporter": "python",
   "pygments_lexer": "ipython3",
   "version": "3.8.10"
  }
 },
 "nbformat": 4,
 "nbformat_minor": 5
}
